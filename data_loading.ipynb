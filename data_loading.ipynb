{
 "cells": [
  {
   "cell_type": "code",
   "execution_count": 10,
   "id": "3900ca99",
   "metadata": {},
   "outputs": [],
   "source": [
    "import gurobipy as gp\n",
    "from gurobipy import GRB\n",
    "import pandas as pd\n",
    "import numpy as np\n",
    "import matplotlib.pyplot as plt\n",
    "import matplotlib.dates as mdates\n",
    "import scipy.sparse as sp\n",
    "import os\n",
    "\n",
    "from functions import plot_DA_week"
   ]
  },
  {
   "cell_type": "markdown",
   "id": "a003a7ed",
   "metadata": {},
   "source": [
    "DATA LOADING\n"
   ]
  },
  {
   "cell_type": "code",
   "execution_count": 9,
   "id": "6bf42d68",
   "metadata": {},
   "outputs": [
    {
     "name": "stdout",
     "output_type": "stream",
     "text": [
      "                 Date (GMT+1)     Day Ahead Auction (CH)\n",
      "0                         NaN  Price (EUR/MWh, EUR/tCO2)\n",
      "1      2023-01-01T00:00+01:00                       0.03\n",
      "2      2023-01-01T01:00+01:00                      -7.25\n",
      "3      2023-01-01T02:00+01:00                      -3.99\n",
      "4      2023-01-01T03:00+01:00                      -7.71\n",
      "...                       ...                        ...\n",
      "17536  2024-12-31T14:00+01:00                     113.61\n",
      "17537  2024-12-31T15:00+01:00                      119.9\n",
      "17538  2024-12-31T16:00+01:00                      130.2\n",
      "17539  2024-12-31T17:00+01:00                      130.9\n",
      "17540  2024-12-31T18:00+01:00                      129.3\n",
      "\n",
      "[17541 rows x 2 columns]\n"
     ]
    }
   ],
   "source": [
    "# 1) Day-Ahead market prices\n",
    "\n",
    "folder_path = \"data/energy-charts_day_ahead\"\n",
    "years = [2023, 2024]# Define the years you want to import\n",
    "file_paths = [os.path.join(folder_path, f\"energy-charts_DA_{year}.csv\") for year in years]\n",
    "\n",
    "df_list = []\n",
    "for path in file_paths:\n",
    "    # Read CSV (adjust separator and decimal if needed)\n",
    "    df = pd.read_csv(path, sep=',', decimal='.')\n",
    "    df_list.append(df)\n",
    "\n",
    "# Merge the DA market price dataframes\n",
    "merged_DA = pd.concat(df_list, ignore_index=True)\n",
    "print(merged_DA.head(-5))"
   ]
  }
 ],
 "metadata": {
  "kernelspec": {
   "display_name": "IML",
   "language": "python",
   "name": "python3"
  },
  "language_info": {
   "codemirror_mode": {
    "name": "ipython",
    "version": 3
   },
   "file_extension": ".py",
   "mimetype": "text/x-python",
   "name": "python",
   "nbconvert_exporter": "python",
   "pygments_lexer": "ipython3",
   "version": "3.10.13"
  }
 },
 "nbformat": 4,
 "nbformat_minor": 5
}

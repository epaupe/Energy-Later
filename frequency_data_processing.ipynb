{
 "cells": [
  {
   "cell_type": "code",
   "execution_count": 25,
   "id": "b7e85130",
   "metadata": {},
   "outputs": [],
   "source": [
    "import pandas as pd\n",
    "from pathlib import Path\n",
    "\n",
    "data_dir = Path(\"Data\")\n",
    "monthly_frames = []\n",
    "\n",
    "for month in range(1, 12):\n",
    "    csv_path = data_dir / f\"germany_2019_{month:02d}.csv\"\n",
    "    df = pd.read_csv(csv_path)  # first column becomes datetime\n",
    "    monthly_frames.append(df)\n",
    "\n",
    "frequency_data = pd.concat(monthly_frames, ignore_index=True)\n",
    "frequency_data.rename(columns={\"Unnamed: 0\": \"timestamp\"}, inplace=True)\n",
    "frequency_data.set_index(\"timestamp\", inplace=True)\n",
    "frequency_data.index = pd.to_datetime(frequency_data.index)"
   ]
  },
  {
   "cell_type": "code",
   "execution_count": null,
   "id": "eb9bb8c8",
   "metadata": {},
   "outputs": [
    {
     "name": "stdout",
     "output_type": "stream",
     "text": [
      "                     Frequency  power_per_unit\n",
      "timestamp                                     \n",
      "2019-01-01 00:00:00       31.0        0.061111\n",
      "2019-01-01 00:00:01       31.0        0.061111\n",
      "2019-01-01 00:00:02       29.0        0.050000\n",
      "2019-01-01 00:00:03       27.0        0.038889\n",
      "2019-01-01 00:00:04       24.0        0.022222\n",
      "2019-01-01 00:00:05       22.0        0.011111\n",
      "2019-01-01 00:00:06       21.0        0.005556\n",
      "2019-01-01 00:00:07       20.0        0.000000\n",
      "2019-01-01 00:00:08       18.0        0.000000\n",
      "2019-01-01 00:00:09       17.0        0.000000\n",
      "2019-01-01 00:00:10       16.0        0.000000\n",
      "2019-01-01 00:00:11       15.0        0.000000\n",
      "2019-01-01 00:00:12       14.0        0.000000\n",
      "2019-01-01 00:00:13       13.0        0.000000\n",
      "2019-01-01 00:00:14       13.0        0.000000\n",
      "2019-01-01 00:00:15       12.0        0.000000\n",
      "2019-01-01 00:00:16       11.0        0.000000\n",
      "2019-01-01 00:00:17       10.0        0.000000\n",
      "2019-01-01 00:00:18        9.0        0.000000\n",
      "2019-01-01 00:00:19       10.0        0.000000\n",
      "2019-01-01 00:00:20        9.0        0.000000\n",
      "2019-01-01 00:00:21        8.0        0.000000\n",
      "2019-01-01 00:00:22        9.0        0.000000\n",
      "2019-01-01 00:00:23        8.0        0.000000\n",
      "2019-01-01 00:00:24        8.0        0.000000\n",
      "2019-01-01 00:00:25        8.0        0.000000\n",
      "2019-01-01 00:00:26        8.0        0.000000\n",
      "2019-01-01 00:00:27        7.0        0.000000\n",
      "2019-01-01 00:00:28        7.0        0.000000\n",
      "2019-01-01 00:00:29        7.0        0.000000\n"
     ]
    }
   ],
   "source": [
    "min_abs, max_abs = 20, 200\n",
    "mag_scaled = (frequency_data[\"Frequency\"].abs() - min_abs) / (max_abs - min_abs)\n",
    "mag_scaled = mag_scaled.clip(0, 1)\n",
    "frequency_data[\"power_per_unit\"] = mag_scaled * np.sign(frequency_data[\"Frequency\"])\n"
   ]
  },
  {
   "cell_type": "code",
   "execution_count": null,
   "id": "8560a3b2",
   "metadata": {},
   "outputs": [
    {
     "name": "stdout",
     "output_type": "stream",
     "text": [
      "                     Frequency  power_per_unit\n",
      "timestamp                                     \n",
      "2019-01-01 00:00:00       31.0        0.061111\n",
      "2019-01-01 00:00:01       31.0        0.061111\n",
      "2019-01-01 00:00:02       29.0        0.050000\n",
      "2019-01-01 00:00:03       27.0        0.038889\n",
      "2019-01-01 00:00:04       24.0        0.022222\n",
      "...                        ...             ...\n",
      "2019-01-01 00:01:35      -11.0       -0.000000\n",
      "2019-01-01 00:01:36      -10.0       -0.000000\n",
      "2019-01-01 00:01:37      -11.0       -0.000000\n",
      "2019-01-01 00:01:38      -11.0       -0.000000\n",
      "2019-01-01 00:01:39      -11.0       -0.000000\n",
      "\n",
      "[100 rows x 2 columns]\n"
     ]
    }
   ],
   "source": []
  }
 ],
 "metadata": {
  "kernelspec": {
   "display_name": "pypsa-eur",
   "language": "python",
   "name": "python3"
  },
  "language_info": {
   "codemirror_mode": {
    "name": "ipython",
    "version": 3
   },
   "file_extension": ".py",
   "mimetype": "text/x-python",
   "name": "python",
   "nbconvert_exporter": "python",
   "pygments_lexer": "ipython3",
   "version": "3.12.11"
  }
 },
 "nbformat": 4,
 "nbformat_minor": 5
}
